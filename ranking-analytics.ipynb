{
 "cells": [
  {
   "cell_type": "code",
   "execution_count": 1,
   "metadata": {},
   "outputs": [],
   "source": [
    "import findspark\n",
    "findspark.init()\n",
    "import pyspark\n",
    "import datetime\n",
    "\n",
    "sc = pyspark.SparkContext(appName=\"read-big-file\")\n",
    "\n",
    "from pyspark.sql import SparkSession\n",
    "\n",
    "spark = SparkSession \\\n",
    "    .builder \\\n",
    "    .getOrCreate()\n"
   ]
  },
  {
   "cell_type": "code",
   "execution_count": 2,
   "metadata": {},
   "outputs": [],
   "source": [
    "from pyspark.sql.types import *\n",
    "\n",
    "# Our schema for the data\n",
    "#\n",
    "dbSchema = StructType([\\\n",
    "StructField(\"stock\", StringType()),\\\n",
    "StructField(\"price\",DoubleType()),\\\n",
    "StructField(\"date\",StringType()),\\\n",
    "StructField(\"volume\",LongType())])\n",
    "\n",
    "# Our actual data\n",
    "#\n",
    "db_list = [\\\n",
    "('IBM',143.91,'2018-08-15',4241500),\\\n",
    "('IBM',145.34,'2018-08-16',5250700),\\\n",
    "('IBM',146.06,'2018-08-17',2678600),\\\n",
    "('IBM',146.38,'2018-08-20',3250700),\\\n",
    "('MSFT',107.66,'2018-08-15',29982800),\\\n",
    "('MSFT',107.64,'2018-08-16',21384300),\\\n",
    "('MSFT',107.58,'2018-08-17',18053800),\\\n",
    "('MSFT',106.65,'2018-08-20',6127595),\\\n",
    "('AAPL',210.24,'2018-08-15',28807600),\\\n",
    "('AAPL',213.32,'2018-08-16',28500400),\\\n",
    "('AAPL',217.58,'2018-08-17',35050600),\\\n",
    "('AAPL',215.80,'2018-08-20',16455456)\\\n",
    "]\n",
    "\n",
    "# Convert our list of tuples to a dataframe\n",
    "#\n",
    "df = spark.createDataFrame(db_list,schema=dbSchema) \n",
    "\n",
    "# Convert the date string to an actual date\n",
    "#\n",
    "df=df.withColumn(\"date\",df[\"date\"].cast(DateType()))\n"
   ]
  },
  {
   "cell_type": "code",
   "execution_count": 3,
   "metadata": {},
   "outputs": [
    {
     "name": "stdout",
     "output_type": "stream",
     "text": [
      "+-----+------+----------+--------+\n",
      "|stock| price|      date|  volume|\n",
      "+-----+------+----------+--------+\n",
      "|  IBM|143.91|2018-08-15| 4241500|\n",
      "|  IBM|145.34|2018-08-16| 5250700|\n",
      "|  IBM|146.06|2018-08-17| 2678600|\n",
      "|  IBM|146.38|2018-08-20| 3250700|\n",
      "| MSFT|107.66|2018-08-15|29982800|\n",
      "| MSFT|107.64|2018-08-16|21384300|\n",
      "| MSFT|107.58|2018-08-17|18053800|\n",
      "| MSFT|106.65|2018-08-20| 6127595|\n",
      "| AAPL|210.24|2018-08-15|28807600|\n",
      "| AAPL|213.32|2018-08-16|28500400|\n",
      "| AAPL|217.58|2018-08-17|35050600|\n",
      "| AAPL| 215.8|2018-08-20|16455456|\n",
      "+-----+------+----------+--------+\n",
      "\n"
     ]
    }
   ],
   "source": [
    "df.show()\n"
   ]
  },
  {
   "cell_type": "code",
   "execution_count": 4,
   "metadata": {},
   "outputs": [],
   "source": [
    "df.createOrReplaceTempView(\"stock\")"
   ]
  },
  {
   "cell_type": "code",
   "execution_count": 5,
   "metadata": {},
   "outputs": [
    {
     "data": {
      "text/plain": [
       "DataFrame[stock: string, price: double, date: date, volume: bigint]"
      ]
     },
     "execution_count": 5,
     "metadata": {},
     "output_type": "execute_result"
    }
   ],
   "source": [
    "from pyspark.sql import SQLContext\n",
    "sqlContext = SQLContext(sc)\n",
    "sqlContext.sql(\"SELECT * FROM stock\")"
   ]
  },
  {
   "cell_type": "code",
   "execution_count": 6,
   "metadata": {},
   "outputs": [
    {
     "name": "stdout",
     "output_type": "stream",
     "text": [
      "+-----+------+--------+----------+---+\n",
      "|stock| price|  volume|      date|rnk|\n",
      "+-----+------+--------+----------+---+\n",
      "| AAPL|213.32|28500400|2018-08-16|  1|\n",
      "|  IBM|145.34| 5250700|2018-08-16|  2|\n",
      "| MSFT|107.64|21384300|2018-08-16|  3|\n",
      "| AAPL|217.58|35050600|2018-08-17|  1|\n",
      "|  IBM|146.06| 2678600|2018-08-17|  2|\n",
      "| MSFT|107.58|18053800|2018-08-17|  3|\n",
      "| AAPL|210.24|28807600|2018-08-15|  1|\n",
      "|  IBM|143.91| 4241500|2018-08-15|  2|\n",
      "| MSFT|107.66|29982800|2018-08-15|  3|\n",
      "| AAPL| 215.8|16455456|2018-08-20|  1|\n",
      "|  IBM|146.38| 3250700|2018-08-20|  2|\n",
      "| MSFT|106.65| 6127595|2018-08-20|  3|\n",
      "+-----+------+--------+----------+---+\n",
      "\n"
     ]
    }
   ],
   "source": [
    "sqlContext.sql('SELECT stock,price,volume,date,rank() over(partition by date order by price desc ) as rnk FROM stock').show()"
   ]
  },
  {
   "cell_type": "code",
   "execution_count": 8,
   "metadata": {},
   "outputs": [
    {
     "name": "stdout",
     "output_type": "stream",
     "text": [
      "+-----+---+\n",
      "|stock|rnk|\n",
      "+-----+---+\n",
      "| AAPL|  1|\n",
      "| AAPL|  1|\n",
      "| AAPL|  1|\n",
      "| AAPL|  1|\n",
      "|  IBM|  2|\n",
      "|  IBM|  2|\n",
      "|  IBM|  2|\n",
      "|  IBM|  2|\n",
      "| MSFT|  3|\n",
      "| MSFT|  3|\n",
      "| MSFT|  3|\n",
      "| MSFT|  3|\n",
      "+-----+---+\n",
      "\n"
     ]
    }
   ],
   "source": [
    "sqlContext.sql('SELECT stock,dense_rank() over(order by stock) as rnk FROM stock').show()"
   ]
  },
  {
   "cell_type": "code",
   "execution_count": 9,
   "metadata": {},
   "outputs": [
    {
     "name": "stdout",
     "output_type": "stream",
     "text": [
      "+-----+------+--------+----------+---+\n",
      "|stock| price|  volume|      date| rn|\n",
      "+-----+------+--------+----------+---+\n",
      "| AAPL|213.32|28500400|2018-08-16|  1|\n",
      "|  IBM|145.34| 5250700|2018-08-16|  2|\n",
      "| MSFT|107.64|21384300|2018-08-16|  3|\n",
      "| AAPL|217.58|35050600|2018-08-17|  1|\n",
      "|  IBM|146.06| 2678600|2018-08-17|  2|\n",
      "| MSFT|107.58|18053800|2018-08-17|  3|\n",
      "| AAPL|210.24|28807600|2018-08-15|  1|\n",
      "|  IBM|143.91| 4241500|2018-08-15|  2|\n",
      "| MSFT|107.66|29982800|2018-08-15|  3|\n",
      "| AAPL| 215.8|16455456|2018-08-20|  1|\n",
      "|  IBM|146.38| 3250700|2018-08-20|  2|\n",
      "| MSFT|106.65| 6127595|2018-08-20|  3|\n",
      "+-----+------+--------+----------+---+\n",
      "\n"
     ]
    }
   ],
   "source": [
    "sqlContext.sql('SELECT stock,price,volume,date,row_number() over(partition by date order by price desc ) as rn FROM stock').show()"
   ]
  },
  {
   "cell_type": "code",
   "execution_count": 11,
   "metadata": {},
   "outputs": [
    {
     "name": "stdout",
     "output_type": "stream",
     "text": [
      "+-----+------+--------+----------+---+\n",
      "|stock| price|  volume|      date| rn|\n",
      "+-----+------+--------+----------+---+\n",
      "| AAPL|210.24|28807600|2018-08-15|  1|\n",
      "| AAPL|213.32|28500400|2018-08-16|  2|\n",
      "| AAPL|217.58|35050600|2018-08-17|  3|\n",
      "| AAPL| 215.8|16455456|2018-08-20|  4|\n",
      "|  IBM|143.91| 4241500|2018-08-15|  5|\n",
      "|  IBM|145.34| 5250700|2018-08-16|  6|\n",
      "|  IBM|146.06| 2678600|2018-08-17|  7|\n",
      "|  IBM|146.38| 3250700|2018-08-20|  8|\n",
      "| MSFT|107.66|29982800|2018-08-15|  9|\n",
      "| MSFT|107.64|21384300|2018-08-16| 10|\n",
      "| MSFT|107.58|18053800|2018-08-17| 11|\n",
      "| MSFT|106.65| 6127595|2018-08-20| 12|\n",
      "+-----+------+--------+----------+---+\n",
      "\n"
     ]
    }
   ],
   "source": [
    "sqlContext.sql('SELECT stock,price,volume,date,row_number() over(order by stock) as rn FROM stock').show()"
   ]
  },
  {
   "cell_type": "code",
   "execution_count": 15,
   "metadata": {},
   "outputs": [],
   "source": [
    "df2=df"
   ]
  },
  {
   "cell_type": "code",
   "execution_count": 16,
   "metadata": {},
   "outputs": [
    {
     "data": {
      "text/plain": [
       "DataFrame[stock: string, price: double, date: date, volume: bigint]"
      ]
     },
     "execution_count": 16,
     "metadata": {},
     "output_type": "execute_result"
    }
   ],
   "source": [
    "df2.cache()"
   ]
  },
  {
   "cell_type": "code",
   "execution_count": 17,
   "metadata": {},
   "outputs": [
    {
     "data": {
      "text/plain": [
       "12"
      ]
     },
     "execution_count": 17,
     "metadata": {},
     "output_type": "execute_result"
    }
   ],
   "source": [
    "df2.count()"
   ]
  },
  {
   "cell_type": "code",
   "execution_count": 18,
   "metadata": {},
   "outputs": [],
   "source": [
    "for i in range(8):\n",
    "    df2=df2.unionAll(df2)\n",
    "    df2.cache()\n",
    "    df2.count()\n",
    "    "
   ]
  },
  {
   "cell_type": "code",
   "execution_count": 19,
   "metadata": {},
   "outputs": [
    {
     "data": {
      "text/plain": [
       "3072"
      ]
     },
     "execution_count": 19,
     "metadata": {},
     "output_type": "execute_result"
    }
   ],
   "source": [
    "df2.count()"
   ]
  },
  {
   "cell_type": "code",
   "execution_count": 20,
   "metadata": {},
   "outputs": [],
   "source": [
    "df2.createOrReplaceTempView(\"stock2\")"
   ]
  },
  {
   "cell_type": "code",
   "execution_count": 21,
   "metadata": {},
   "outputs": [
    {
     "name": "stdout",
     "output_type": "stream",
     "text": [
      "2018-09-15 14:11:23.054895\n",
      "+-----+------+--------+----------+\n",
      "|stock| price|  volume|      date|\n",
      "+-----+------+--------+----------+\n",
      "| AAPL|213.32|28500400|2018-08-16|\n",
      "|  IBM|146.38| 3250700|2018-08-20|\n",
      "| AAPL|210.24|28807600|2018-08-15|\n",
      "| MSFT|107.58|18053800|2018-08-17|\n",
      "| AAPL|217.58|35050600|2018-08-17|\n",
      "|  IBM|145.34| 5250700|2018-08-16|\n",
      "| AAPL| 215.8|16455456|2018-08-20|\n",
      "| MSFT|107.66|29982800|2018-08-15|\n",
      "|  IBM|143.91| 4241500|2018-08-15|\n",
      "|  IBM|146.06| 2678600|2018-08-17|\n",
      "| MSFT|106.65| 6127595|2018-08-20|\n",
      "| MSFT|107.64|21384300|2018-08-16|\n",
      "+-----+------+--------+----------+\n",
      "\n",
      "2018-09-15 14:12:04.090202\n"
     ]
    }
   ],
   "source": [
    "print(datetime.datetime.now())\n",
    "stock_tmp=sqlContext.sql('select stock,price,volume,date from (SELECT stock,price,volume,date,row_number() over(partition by stock, date order by date desc ) as rn FROM stock2) where rn =1 ')\n",
    "stock_tmp.show()\n",
    "print(datetime.datetime.now())"
   ]
  },
  {
   "cell_type": "code",
   "execution_count": 22,
   "metadata": {},
   "outputs": [
    {
     "name": "stdout",
     "output_type": "stream",
     "text": [
      "2018-09-15 14:12:20.402340\n",
      "+-----+------+----------+--------+\n",
      "|stock| price|      date|  volume|\n",
      "+-----+------+----------+--------+\n",
      "|  IBM|143.91|2018-08-15| 4241500|\n",
      "| MSFT|106.65|2018-08-20| 6127595|\n",
      "|  IBM|146.06|2018-08-17| 2678600|\n",
      "| MSFT|107.58|2018-08-17|18053800|\n",
      "| AAPL| 215.8|2018-08-20|16455456|\n",
      "| AAPL|217.58|2018-08-17|35050600|\n",
      "| MSFT|107.66|2018-08-15|29982800|\n",
      "| MSFT|107.64|2018-08-16|21384300|\n",
      "|  IBM|145.34|2018-08-16| 5250700|\n",
      "|  IBM|146.38|2018-08-20| 3250700|\n",
      "| AAPL|210.24|2018-08-15|28807600|\n",
      "| AAPL|213.32|2018-08-16|28500400|\n",
      "+-----+------+----------+--------+\n",
      "\n",
      "2018-09-15 14:13:00.277209\n"
     ]
    }
   ],
   "source": [
    "print(datetime.datetime.now())\n",
    "df3=df2.dropDuplicates()\n",
    "df3.show()\n",
    "print(datetime.datetime.now())\n",
    "\n"
   ]
  },
  {
   "cell_type": "code",
   "execution_count": null,
   "metadata": {},
   "outputs": [],
   "source": []
  }
 ],
 "metadata": {
  "kernelspec": {
   "display_name": "Python 3",
   "language": "python",
   "name": "python3"
  },
  "language_info": {
   "codemirror_mode": {
    "name": "ipython",
    "version": 3
   },
   "file_extension": ".py",
   "mimetype": "text/x-python",
   "name": "python",
   "nbconvert_exporter": "python",
   "pygments_lexer": "ipython3",
   "version": "3.6.5"
  }
 },
 "nbformat": 4,
 "nbformat_minor": 2
}
